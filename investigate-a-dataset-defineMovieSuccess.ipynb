{
 "cells": [
  {
   "cell_type": "markdown",
   "metadata": {},
   "source": [
    "#### Christopher B. Johnson\n",
    "#### 11/12/17\n",
    "\n",
    "\n",
    "# Project: Investigate What Makes a Movie Exceptional\n",
    "\n",
    "## Table of Contents\n",
    "<ul>\n",
    "<li><a href=\"#intro\">Introduction</a></li>\n",
    "<li><a href=\"#wrangling\">Data Wrangling</a></li>\n",
    "<li><a href=\"#eda\">Exploratory Data Analysis</a></li>\n",
    "<li><a href=\"#conclusions\">Conclusions</a></li>\n",
    "</ul>"
   ]
  },
  {
   "cell_type": "markdown",
   "metadata": {},
   "source": [
    "<a id='intro'></a>\n",
    "## Introduction\n",
    "\n",
    "> **Tip**: In this section of the report, provide a brief introduction to the dataset you've selected for analysis. At the end of this section, describe the questions that you plan on exploring over the course of the report. Try to build your report around the analysis of at least one dependent variable and three independent variables.\n",
    ">\n",
    "> If you haven't yet selected and downloaded your data, make sure you do that first before coming back here. If you're not sure what questions to ask right now, then make sure you familiarize yourself with the variables and the dataset context for ideas of what to explore.\n",
    "\n",
    ">This project will explore the different variables involved in making movies that are exceptional.  So, what defines a good movie?  \n",
    "\n",
    ">  Using the dataset from the tmdb database, and for the sake of this investigation, a good movie can be defined in three ways : popularity, film profit as proportion of budget (here I'm going to adjust this result by budget, so that a film with a 1 mil budget that makes 1 mil in profits is considered more successful than a 100 mil budget film that makes 1 mil)  $$filmProfit = \\frac{revenue-budget}{budget}$$, or the average voter score.  These three dependent variables address the more generic variables of fame, fortune, and quality, respectively.  Finally, there is Chris' opinion on the matter, which after a brief review of the data, suggests that this is a highly subjective topic.\n",
    "\n",
    ">  Given the size of the dataset (approximately 10,000 movies), each definition of successful will be set to the top 500 movies (5%), since this appears to capture most of the significant information.\n",
    "\n",
    "## Questions\n",
    "\n",
    ">>1. Is there some common combination of genres that most successful movies share?\n",
    ">>2. Is there any correlation between successful movies and their director?\n",
    ">>3. Are most successful movies associated with big budgets?\n",
    "\n",
    ">In order to answer these questions, as stated above, first movies will be ranked by 3 definitions of success (fame, fortune, and quality).  These will be the dependent variables based on the fields of popularity, (budget,revenue), and voter_average.  Then an attempt will be made to determine if there is any correlation between the movie genres, directors, or budgets and these top ranking successful movies.\n",
    "\n",
    "### Data Uncertainty\n",
    "> The current website for this data is at https://www.kaggle.com/tmdb/tmdb-movie-metadata\n",
    "\n",
    "> While it confirms that the existing zeros in the data are to be ignored, it does not answer how the budget_adj and revenue_adj columns are to be considered.  Since these numbers went down in some cases, I don't think that it's adjusting for 2017 dollars, but instead it may be the actual values after review?  Revenues also dropped after adjustment in some cases, and it's just not clear what these adjusted numbers represent, so they will not be used."
   ]
  },
  {
   "cell_type": "code",
   "execution_count": 2,
   "metadata": {},
   "outputs": [],
   "source": [
    "#import all packages for this analysis\n",
    "import numpy as np\n",
    "import pandas as pd\n",
    "import matplotlib.pyplot as plt\n",
    "\n",
    "#make all plots in the notebook vs separate window\n",
    "%matplotlib inline\n"
   ]
  },
  {
   "cell_type": "markdown",
   "metadata": {},
   "source": [
    "<a id='wrangling'></a>\n",
    "## Data Wrangling\n",
    "\n",
    "> **Tip**: In this section of the report, you will load in the data, check for cleanliness, and then trim and clean your dataset for analysis. Make sure that you document your steps carefully and justify your cleaning decisions.\n",
    "\n",
    "> In this section, the movie csv file is loaded into a dataframe and the tail is displayed to show some concerns with the data.  The problems are as follows :\n",
    "1.  There are zeroes in the budget, revenue, budget_adj and revenue_adj columns.  These are likely not real values, and are simply placeholders.  These movies should not be included in the assessment of success using net profits, as they would wildly skew the results, and there is no immediate way to easily resolve the lack of information.\n",
    "2.  There are some useless columns that are cluttering up the table for this analysis, such as homepage, tagline, and overview, and will not be used.  While it could be interesting to look at the vocabulary and punctuation to see if say, more !'s result in more viewers, this will not be pursued.\n",
    "3.  While creating the money rank, the highest performers had a rank of over 1 million.  Upon further inspection, for those movies, someone had entered the budget assuming millions and then put down absolute revenue.  For example, id 10495, Karate Kid III has a budget of 113.00 and a revenue of 115103979.  While it's rather crude, I'm going to assume that all movies have a budget of greater than 100,000.  I'm going to leave the revenue alone for now.\n",
    "4.  While working on casting the genres from lists to sets, it failed on index 426, which is a blank cell.  It was identifying this cell as float instead of empty list.  This was a lesson in groupby not taking mutable types, so I cast the column to string, then split on |, converted to set (to remove duplicates), and then sorted the set and cast to tuple (a non-mutable iterator which can be used by groupby).  This fixed the genre column, and while I also applied it to director (likely unnecessary) and actors (flawed due to it not finding individuals so much as a certain group...that works for genre, but not so much for actors).\n",
    "\n",
    "### General Properties"
   ]
  },
  {
   "cell_type": "code",
   "execution_count": 10,
   "metadata": {},
   "outputs": [
    {
     "name": "stdout",
     "output_type": "stream",
     "text": [
      "          id    imdb_id  popularity  budget  revenue  \\\n",
      "10861     21  tt0060371    0.080598       0        0   \n",
      "10862  20379  tt0060472    0.065543       0        0   \n",
      "10863  39768  tt0060161    0.065141       0        0   \n",
      "10864  21449  tt0061177    0.064317       0        0   \n",
      "10865  22293  tt0060666    0.035919   19000        0   \n",
      "\n",
      "                 original_title  \\\n",
      "10861        The Endless Summer   \n",
      "10862                Grand Prix   \n",
      "10863       Beregis Avtomobilya   \n",
      "10864    What's Up, Tiger Lily?   \n",
      "10865  Manos: The Hands of Fate   \n",
      "\n",
      "                                                    cast homepage  \\\n",
      "10861  Michael Hynson|Robert August|Lord 'Tally Ho' B...      NaN   \n",
      "10862  James Garner|Eva Marie Saint|Yves Montand|Tosh...      NaN   \n",
      "10863  Innokentiy Smoktunovskiy|Oleg Efremov|Georgi Z...      NaN   \n",
      "10864  Tatsuya Mihashi|Akiko Wakabayashi|Mie Hama|Joh...      NaN   \n",
      "10865  Harold P. Warren|Tom Neyman|John Reynolds|Dian...      NaN   \n",
      "\n",
      "                 director                                            tagline  \\\n",
      "10861         Bruce Brown                                                NaN   \n",
      "10862  John Frankenheimer  Cinerama sweeps YOU into a drama of speed and ...   \n",
      "10863      Eldar Ryazanov                                                NaN   \n",
      "10864         Woody Allen                          WOODY ALLEN STRIKES BACK!   \n",
      "10865    Harold P. Warren       It's Shocking! It's Beyond Your Imagination!   \n",
      "\n",
      "          ...                                                overview runtime  \\\n",
      "10861     ...       The Endless Summer, by Bruce Brown, is one of ...      95   \n",
      "10862     ...       Grand Prix driver Pete Aron is fired by his te...     176   \n",
      "10863     ...       An insurance agent who moonlights as a carthie...      94   \n",
      "10864     ...       In comic Woody Allen's film debut, he took the...      80   \n",
      "10865     ...       A family gets lost on the road and stumbles up...      74   \n",
      "\n",
      "                       genres  \\\n",
      "10861             Documentary   \n",
      "10862  Action|Adventure|Drama   \n",
      "10863          Mystery|Comedy   \n",
      "10864           Action|Comedy   \n",
      "10865                  Horror   \n",
      "\n",
      "                                    production_companies release_date  \\\n",
      "10861                                  Bruce Brown Films      6/15/66   \n",
      "10862  Cherokee Productions|Joel Productions|Douglas ...     12/21/66   \n",
      "10863                                            Mosfilm       1/1/66   \n",
      "10864                            Benedict Pictures Corp.      11/2/66   \n",
      "10865                                          Norm-Iris     11/15/66   \n",
      "\n",
      "      vote_count  vote_average  release_year     budget_adj  revenue_adj  \n",
      "10861         11           7.4          1966       0.000000          0.0  \n",
      "10862         20           5.7          1966       0.000000          0.0  \n",
      "10863         11           6.5          1966       0.000000          0.0  \n",
      "10864         22           5.4          1966       0.000000          0.0  \n",
      "10865         15           1.5          1966  127642.279154          0.0  \n",
      "\n",
      "[5 rows x 21 columns]\n"
     ]
    }
   ],
   "source": [
    "# Loading the movie data and doing an initial inspection.  Other problems were found as documented above.\n",
    "\n",
    "filename = 'tmdb-movies.csv'\n",
    "df_movies = pd.read_csv(filename)\n",
    "print df_movies.tail()"
   ]
  },
  {
   "cell_type": "markdown",
   "metadata": {},
   "source": [
    "### Prepare the data for investigation\n",
    "\n",
    ">The approach here will be to create multiple tables much like preparing a schema for a database.  Once the tables are built, we can sort them as desired, and then do the necessary joins to create the associations in preparation for display.\n",
    "\n",
    ">First prepare the table of independent variables.  The common fields dataframe had problems; specifically, around index 426, there was an empty cell in the data which was considered a float, when all other values were objects.  This caused a crash.  The intent with the genres was to look at what combinations of genres would be associated with successful movies, so it was desireable to capture the combinations.  However, this resulted in combinations such as drama,comedy and comedy,drama as separate entries.  The answer is to simply compare sets, but that became difficult since groupby will not work on mutable data objects.  So, while tuples would work, they didn't actually solve the problem of order significance.  Hence the solution below of first casting to string (eliminate the float) so I can split to a list on a | token.  Then take the list and convert to a set to eliminate any possible duplicates in the data set.  Finally return the sorted tuple, to fix the order significance problem when feeding into groupby."
   ]
  },
  {
   "cell_type": "code",
   "execution_count": 12,
   "metadata": {
    "collapsed": true
   },
   "outputs": [],
   "source": [
    "independentFields = ['id','budget','cast','director','genres']\n",
    "df_commonFields = pd.read_csv(filename,usecols=independentFields)\n",
    "\n",
    "#define function to take in dataframe of independent fields and groom it to support groupby functions\n",
    "listOfColumns = ['genres','cast','director']\n",
    "#need to convert from set to tuple b/c groupby can't work on mutable objects\n",
    "#https://stackoverflow.com/questions/39622884/pandas-groupby-over-list\n",
    "def groomIndependentVars(df, colList):\n",
    "    def setToTuple(x):\n",
    "        return tuple(sorted(x))\n",
    "    for column in colList:\n",
    "        df[column] = df[column].astype(str)\n",
    "        df[column] = df[column].str.split(pat='|')\n",
    "        df[column] = df[column].apply(set)\n",
    "        df[column] = df[column].apply(setToTuple)\n",
    "    return df\n",
    "\n",
    "df_commonFields = groomIndependentVars(df_commonFields,listOfColumns)"
   ]
  },
  {
   "cell_type": "markdown",
   "metadata": {},
   "source": [
    "> **Tip**: You should _not_ perform too many operations in each cell. Create cells freely to explore your data. One option that you can take with this project is to do a lot of explorations in an initial notebook. These don't have to be organized, but make sure you use enough comments to understand the purpose of each code cell. Then, after you're done with your analysis, create a duplicate notebook where you will trim the excess and organize your steps so that you have a flowing, cohesive report.\n",
    "\n",
    "> **Tip**: Make sure that you keep your reader informed on the steps that you are taking in your investigation. Follow every code cell, or every set of related code cells, with a markdown cell to describe to the reader what was found in the preceding cell(s). Try to make it so that the reader can then understand what they will be seeing in the following cell(s).\n",
    "\n",
    "### Data Cleaning : create the tables for investigation"
   ]
  },
  {
   "cell_type": "code",
   "execution_count": 9,
   "metadata": {},
   "outputs": [
    {
     "name": "stdout",
     "output_type": "stream",
     "text": [
      "       id     budget                                               cast  \\\n",
      "0  135397  150000000  Chris Pratt|Bryce Dallas Howard|Irrfan Khan|Vi...   \n",
      "1   76341  150000000  Tom Hardy|Charlize Theron|Hugh Keays-Byrne|Nic...   \n",
      "2  262500  110000000  Shailene Woodley|Theo James|Kate Winslet|Ansel...   \n",
      "3  140607  200000000  Harrison Ford|Mark Hamill|Carrie Fisher|Adam D...   \n",
      "4  168259  190000000  Vin Diesel|Paul Walker|Jason Statham|Michelle ...   \n",
      "\n",
      "           director                                     genres  \n",
      "0   Colin Trevorrow  Action|Adventure|Science Fiction|Thriller  \n",
      "1     George Miller  Action|Adventure|Science Fiction|Thriller  \n",
      "2  Robert Schwentke         Adventure|Science Fiction|Thriller  \n",
      "3       J.J. Abrams   Action|Adventure|Science Fiction|Fantasy  \n",
      "4         James Wan                      Action|Crime|Thriller  \n",
      "       id     budget     revenue\n",
      "0  135397  150000000  1513528810\n",
      "1   76341  150000000   378436354\n",
      "2  262500  110000000   295238201\n",
      "3  140607  200000000  2068178225\n",
      "4  168259  190000000  1506249360\n"
     ]
    }
   ],
   "source": [
    "# After discussing the structure of the data and any problems that need to be\n",
    "#   cleaned, perform those cleaning steps in the second part of this section.\n",
    "filename = 'tmdb-movies.csv'\n",
    "\n",
    "# 0. get table of common properties (to look for correlations between dependent variables of money/fame/quality and independent variables of directors/release months/genres/budgets)\n",
    "independentFields = ['id','budget','cast','director','genres']\n",
    "df_commonFields = pd.read_csv(filename,usecols=independentFields)\n",
    "print df_commonFields.head()\n",
    "\n",
    "# 1. Money : rank movies by net profits, and try to identify common : directors, release months, genres, budgets\n",
    "moneyFields = ['id','budget','revenue']\n",
    "df_movieMoney = pd.read_csv(filename, usecols=moneyFields)\n",
    "print df_movieMoney.head()\n",
    "\n",
    "# 2. Fame : rank movies by popularity and try to identify common : directors, release months, genres, budgets\n",
    "# 3. Quality : rank movies by vote, corrected by the number of vote counts (higher ranked votes by larger numbers of people are better than high votes by few people)\n",
    "# 4. Summary : are there any movies common to Money,Fame and Quality? : identify common directors, release months, genres, budgets\n",
    "\n"
   ]
  },
  {
   "cell_type": "markdown",
   "metadata": {},
   "source": [
    "<a id='eda'></a>\n",
    "## Exploratory Data Analysis\n",
    "\n",
    "> **Tip**: Now that you've trimmed and cleaned your data, you're ready to move on to exploration. Compute statistics and create visualizations with the goal of addressing the research questions that you posed in the Introduction section. It is recommended that you be systematic with your approach. Look at one variable at a time, and then follow it up by looking at relationships between variables.\n",
    "\n",
    "### Research Question 1 (Replace this header name!)"
   ]
  },
  {
   "cell_type": "code",
   "execution_count": null,
   "metadata": {
    "collapsed": true
   },
   "outputs": [],
   "source": [
    "# Use this, and more code cells, to explore your data. Don't forget to add\n",
    "#   Markdown cells to document your observations and findings.\n"
   ]
  },
  {
   "cell_type": "markdown",
   "metadata": {},
   "source": [
    "### Research Question 2  (Replace this header name!)"
   ]
  },
  {
   "cell_type": "code",
   "execution_count": null,
   "metadata": {
    "collapsed": true
   },
   "outputs": [],
   "source": [
    "# Continue to explore the data to address your additional research\n",
    "#   questions. Add more headers as needed if you have more questions to\n",
    "#   investigate.\n"
   ]
  },
  {
   "cell_type": "markdown",
   "metadata": {},
   "source": [
    "<a id='conclusions'></a>\n",
    "## Conclusions\n",
    "\n",
    "> **Tip**: Finally, summarize your findings and the results that have been performed. Make sure that you are clear with regards to the limitations of your exploration. If you haven't done any statistical tests, do not imply any statistical conclusions. And make sure you avoid implying causation from correlation!\n",
    "\n",
    "> **Tip**: Once you are satisfied with your work, you should save a copy of the report in HTML or PDF form via the **File** > **Download as** submenu. Before exporting your report, check over it to make sure that the flow of the report is complete. You should probably remove all of the \"Tip\" quotes like this one so that the presentation is as tidy as possible. Congratulations!"
   ]
  },
  {
   "cell_type": "code",
   "execution_count": null,
   "metadata": {
    "collapsed": true
   },
   "outputs": [],
   "source": []
  }
 ],
 "metadata": {
  "kernelspec": {
   "display_name": "Python 2",
   "language": "python",
   "name": "python2"
  },
  "language_info": {
   "codemirror_mode": {
    "name": "ipython",
    "version": 2
   },
   "file_extension": ".py",
   "mimetype": "text/x-python",
   "name": "python",
   "nbconvert_exporter": "python",
   "pygments_lexer": "ipython2",
   "version": "2.7.13"
  }
 },
 "nbformat": 4,
 "nbformat_minor": 2
}
