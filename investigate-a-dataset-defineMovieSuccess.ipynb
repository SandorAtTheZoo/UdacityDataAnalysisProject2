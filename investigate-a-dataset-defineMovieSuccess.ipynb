{
 "cells": [
  {
   "cell_type": "markdown",
   "metadata": {},
   "source": [
    "#### Christopher B. Johnson\n",
    "#### 11/12/17\n",
    "\n",
    "\n",
    "# Project: Investigate What Makes a Movie Exceptional\n",
    "\n",
    "## Table of Contents\n",
    "<ul>\n",
    "<li><a href=\"#intro\">Introduction</a></li>\n",
    "<li><a href=\"#wrangling\">Data Wrangling</a></li>\n",
    "<li><a href=\"#dfMoney\">Creating Money Dataframe</a></li>\n",
    "<li><a href=\"#dfQuality\">Creating Quality Dataframe</a></li>\n",
    "<li><a href=\"#dfPopularity\">Creating Popularity Dataframe</a></li>\n",
    "<li><a href=\"#eda\">Exploratory Data Analysis</a></li>\n",
    "<li><a href=\"#conclusions\">Conclusions</a></li>\n",
    "</ul>"
   ]
  },
  {
   "cell_type": "markdown",
   "metadata": {},
   "source": [
    "<a id='intro'></a>\n",
    "## Introduction\n",
    "\n",
    ">This project will explore the different variables involved in making movies that are exceptional.  So, what defines a good movie?  \n",
    "\n",
    ">  First, we will assume that quality is the defining characteristic of a good movie.  Then, we'll look to see if there are correlations between quality and budget (if you spend enough money, will you create something good?).  Next we'll consider the quality of a movie as defined by popularity.  If enough people go to see the movie, must it be a quality film?  \n",
    "\n",
    ">Finally, we'll take a different approach and assume that quality is not the only valid indicator of a good movie.  A good movie could be defined in three ways : popularity, film profit as proportion of budget (here I'm going to adjust this result by budget, so that a film with a 1 million dollar budget that makes 1 million in profits is considered more successful than a 100 million dollar budget film that makes 1 million)  $$filmProfit = \\frac{revenue-budget}{budget}$$, or finally the average voter score.  These three dependent variables address the more generic variables of fame, fortune, and quality, respectively.  Finally, there is my opinion on the matter, which after a brief review of the data, suggests that this is a highly subjective topic.\n",
    "\n",
    ">  Given the size of the dataset (approximately 10,000 movies), each definition of successful will be set to the top 500 movies (5%), since this appears to capture most of the significant information.\n",
    "\n",
    "## Questions\n",
    "\n",
    ">>1. Is there any correlation between the budget of successful movies and their perceived quality?\n",
    ">>2. Is the popularity of a film an indicator of its quality?\n",
    ">>3. Is there some common combination of genres that most successful movies share?\n",
    "\n",
    ">>>Perhaps success is not so much dictated by budget and quality, but more simply because most people enjoy certain types of movies.  Analogously, just because you build the best product does not mean that it will enjoy success.  For instance, you might build the best grapefruit juicer in the world at the lowest cost, but if most people don't like grapefruit juice, your product will never be hugely successful.\n",
    "\n",
    "### Data Uncertainty and why certain parameters were selected\n",
    "> The current website for this data is at https://www.kaggle.com/tmdb/tmdb-movie-metadata\n",
    "\n",
    "> While their website confirms that the existing zeros in the data are to be ignored, it does not answer how the budget_adj and revenue_adj columns are to be considered.  Since these numbers went down in some cases, I don't think that it's adjusting for 2017 dollars, but instead it may be the actual values after review?  Revenues also dropped after adjustment in some cases, and it's just not clear what these adjusted numbers represent, so they will not be used."
   ]
  },
  {
   "cell_type": "code",
   "execution_count": 153,
   "metadata": {},
   "outputs": [],
   "source": [
    "#import all packages for this analysis\n",
    "import numpy as np\n",
    "import pandas as pd\n",
    "import matplotlib.pyplot as plt\n",
    "\n",
    "#make all plots in the notebook vs separate window\n",
    "%matplotlib inline\n"
   ]
  },
  {
   "cell_type": "markdown",
   "metadata": {},
   "source": [
    "<a id='wrangling'></a>\n",
    "### Data Wrangling Issues\n",
    "> In this section, the movie csv file is loaded into a dataframe and the tail is displayed to show some concerns with the data.  The concerns are as follows :\n",
    "1.  There are zeroes in the budget, revenue, budget_adj and revenue_adj columns.  These are likely not real values, and are simply placeholders.  These movies will not be included in the assessment of success using net profits, as they would wildly skew the results, and there is no immediate way to easily resolve the lack of information.\n",
    "2.  There are some useless columns that are cluttering up the table for this analysis, such as homepage, tagline, and overview, and will not be used.  While it could be interesting to look at the vocabulary and punctuation to see if say, more !'s result in more viewers, this will not be pursued.\n",
    "3.  While creating the money rank, the highest performers had a rank of over 1 million.  Upon further inspection, for those movies, someone had entered the budget assuming millions and then put down absolute revenue.  For example, id 10495, Karate Kid III has a budget of 113.00 and a revenue of 115103979.  While it's rather crude, I'm going to assume that all movies have a budget of greater than 100,000.  I'm going to leave the revenue alone for now.\n",
    "4.  While working on casting the genres from lists to sets, it failed on index 426, which is a blank cell.  It was identifying this cell as float instead of empty list.  This was a lesson in groupby not taking mutable types, so I cast the column to string, then split on |, converted to set (to remove duplicates), and then sorted the set and cast to tuple (a non-mutable iterator which can be used by groupby).  This fixed the genre column, and while I also applied it to director (likely unnecessary) and actors (flawed due to it not finding individuals so much as a certain group...that works for genre, but not so much for actors).  This continuing increase in depth and complexity of analysis is why I stopped exploring at genres, since I'm not convinced there is an obvious stopping point.\n",
    "\n",
    "### General Properties\n",
    ">This section simply takes the tail of the data as a good example of some columns that have 0 for money (eliminate) and NaN for certain text columns, which also needs to be eliminated.  The intent here is to show a quick review of the data with some of its problems."
   ]
  },
  {
   "cell_type": "code",
   "execution_count": 154,
   "metadata": {},
   "outputs": [
    {
     "name": "stdout",
     "output_type": "stream",
     "text": [
      "          id    imdb_id  popularity  budget  revenue  \\\n",
      "10861     21  tt0060371    0.080598       0        0   \n",
      "10862  20379  tt0060472    0.065543       0        0   \n",
      "10863  39768  tt0060161    0.065141       0        0   \n",
      "10864  21449  tt0061177    0.064317       0        0   \n",
      "10865  22293  tt0060666    0.035919   19000        0   \n",
      "\n",
      "                 original_title  \\\n",
      "10861        The Endless Summer   \n",
      "10862                Grand Prix   \n",
      "10863       Beregis Avtomobilya   \n",
      "10864    What's Up, Tiger Lily?   \n",
      "10865  Manos: The Hands of Fate   \n",
      "\n",
      "                                                    cast homepage  \\\n",
      "10861  Michael Hynson|Robert August|Lord 'Tally Ho' B...      NaN   \n",
      "10862  James Garner|Eva Marie Saint|Yves Montand|Tosh...      NaN   \n",
      "10863  Innokentiy Smoktunovskiy|Oleg Efremov|Georgi Z...      NaN   \n",
      "10864  Tatsuya Mihashi|Akiko Wakabayashi|Mie Hama|Joh...      NaN   \n",
      "10865  Harold P. Warren|Tom Neyman|John Reynolds|Dian...      NaN   \n",
      "\n",
      "                 director                                            tagline  \\\n",
      "10861         Bruce Brown                                                NaN   \n",
      "10862  John Frankenheimer  Cinerama sweeps YOU into a drama of speed and ...   \n",
      "10863      Eldar Ryazanov                                                NaN   \n",
      "10864         Woody Allen                          WOODY ALLEN STRIKES BACK!   \n",
      "10865    Harold P. Warren       It's Shocking! It's Beyond Your Imagination!   \n",
      "\n",
      "          ...                                                overview runtime  \\\n",
      "10861     ...       The Endless Summer, by Bruce Brown, is one of ...      95   \n",
      "10862     ...       Grand Prix driver Pete Aron is fired by his te...     176   \n",
      "10863     ...       An insurance agent who moonlights as a carthie...      94   \n",
      "10864     ...       In comic Woody Allen's film debut, he took the...      80   \n",
      "10865     ...       A family gets lost on the road and stumbles up...      74   \n",
      "\n",
      "                       genres  \\\n",
      "10861             Documentary   \n",
      "10862  Action|Adventure|Drama   \n",
      "10863          Mystery|Comedy   \n",
      "10864           Action|Comedy   \n",
      "10865                  Horror   \n",
      "\n",
      "                                    production_companies release_date  \\\n",
      "10861                                  Bruce Brown Films      6/15/66   \n",
      "10862  Cherokee Productions|Joel Productions|Douglas ...     12/21/66   \n",
      "10863                                            Mosfilm       1/1/66   \n",
      "10864                            Benedict Pictures Corp.      11/2/66   \n",
      "10865                                          Norm-Iris     11/15/66   \n",
      "\n",
      "      vote_count  vote_average  release_year     budget_adj  revenue_adj  \n",
      "10861         11           7.4          1966       0.000000          0.0  \n",
      "10862         20           5.7          1966       0.000000          0.0  \n",
      "10863         11           6.5          1966       0.000000          0.0  \n",
      "10864         22           5.4          1966       0.000000          0.0  \n",
      "10865         15           1.5          1966  127642.279154          0.0  \n",
      "\n",
      "[5 rows x 21 columns]\n"
     ]
    }
   ],
   "source": [
    "# Loading the movie data and doing an initial inspection.  Other problems were found as documented above.\n",
    "\n",
    "filename = 'tmdb-movies.csv'\n",
    "df_movies = pd.read_csv(filename)\n",
    "print df_movies.tail()"
   ]
  },
  {
   "cell_type": "markdown",
   "metadata": {},
   "source": [
    "### Prepare the data for investigation\n",
    "\n",
    ">The approach here will be to create multiple tables much like preparing a schema for a database.  Once the tables are built, we can sort them as desired, and then do the necessary joins to create the associations in preparation for display.\n",
    "\n",
    ">First prepare the table of independent variables.  The common fields dataframe had problems; specifically, around index 426, there was an empty cell in the data which was considered a float, when all other values were objects.  This caused a crash.  The intent with the genres was to look at what combinations of genres would be associated with successful movies, so it was desireable to capture the combinations.  However, this resulted in combinations such as (drama,comedy) and (comedy,drama) showing up as separate entries.  The answer is to simply compare sets, but that became difficult since groupby will not work on mutable data objects.  So, while tuples would work, they didn't actually solve the problem of order significance.  Hence the solution below of first casting to string (eliminate the float) so I can split to a list on a | token.  Then take the list and convert to a set to eliminate any possible duplicates in the data set.  Finally return the sorted tuple, to fix the order significance problem when feeding into groupby."
   ]
  },
  {
   "cell_type": "code",
   "execution_count": 155,
   "metadata": {
    "collapsed": true
   },
   "outputs": [],
   "source": [
    "independentFields = ['id','budget','cast','director','genres']\n",
    "df_commonFields = pd.read_csv(filename,usecols=independentFields)\n",
    "\n",
    "#define function to take in dataframe of independent fields and groom it to support groupby functions\n",
    "listOfColumns = ['genres','cast','director']\n",
    "#need to convert from set to tuple b/c groupby can't work on mutable objects\n",
    "#https://stackoverflow.com/questions/39622884/pandas-groupby-over-list\n",
    "def groomIndependentVars(df, colList):\n",
    "    def setToTuple(x):\n",
    "        return tuple(sorted(x))\n",
    "    for column in colList:\n",
    "        df[column] = df[column].astype(str)\n",
    "        df[column] = df[column].str.split(pat='|')\n",
    "        df[column] = df[column].apply(set)\n",
    "        df[column] = df[column].apply(setToTuple)\n",
    "    return df\n",
    "\n",
    "df_commonFields = groomIndependentVars(df_commonFields,listOfColumns)"
   ]
  },
  {
   "cell_type": "markdown",
   "metadata": {},
   "source": [
    "<a id='dfMoney'></a>\n",
    "### Create movies ranked by money dataframe"
   ]
  },
  {
   "cell_type": "markdown",
   "metadata": {},
   "source": [
    "Find the top 500 movies as defined by monetary success.  There were some problems when merging the money dataframe with the commonField dataframe above, as both had the budget column.  A fix for this was to create a suffix on the current table and then drop that column after the merge."
   ]
  },
  {
   "cell_type": "code",
   "execution_count": 156,
   "metadata": {
    "collapsed": true
   },
   "outputs": [],
   "source": [
    "################by money :\n",
    "moneyFields = ['id','budget','revenue']\n",
    "df_movieMoney = pd.read_csv(filename, usecols=moneyFields)\n",
    "#prep money fields to float for division\n",
    "#https://stackoverflow.com/questions/15891038/change-data-type-of-columns-in-pandas\n",
    "df_movieMoney[['budget','revenue']] = df_movieMoney[['budget','revenue']].astype(float)\n",
    "\n",
    "def rankByMoney(df):\n",
    "    if (df['revenue'] > 1) and (df['budget'] > 100000):\n",
    "        return (df['revenue'] - df['budget']) / df['budget']\n",
    "    else:\n",
    "        return -100\n",
    "\n",
    "#using sort_values due to this timing experiment :\n",
    "#https://stackoverflow.com/questions/41825978/sorting-columns-and-selecting-top-n-rows-in-each-group-pandas-dataframe\n",
    "df_movieMoney['moneyRank'] = df_movieMoney.apply(rankByMoney, axis=1).sort_values(ascending = False)\n",
    "\n",
    "#now get top 500 moneyRanked movies and look for common directors\n",
    "df_topMovieMoney = df_movieMoney.sort_values(by=['moneyRank'],ascending=False).head(500)\n",
    "\n",
    "dfMergedMoney = df_topMovieMoney.merge(df_commonFields, on='id', how='inner', suffixes=('', '_'))\n",
    "#now fix merge\n",
    "#https://stackoverflow.com/questions/40343061/duplicate-columns-with-pandas-merge\n",
    "dfMergedMoney.drop('budget_', axis=1, inplace=True)\n",
    "\n",
    "#look at most popular genres for top money makers\n",
    "topMoneyGenres = dfMergedMoney.groupby(dfMergedMoney['genres']).size().sort_values(ascending=False).head(25)\n",
    "#look at most popular directors for top money makers\n",
    "#print dfMergedMoney.groupby(dfMergedMoney['director']).size().sort_values(ascending=False).head()\n",
    "#now look at actors in top money making movies\n",
    "#print dfMergedMoney.groupby(dfMergedMoney['cast']).size().sort_values(ascending=False).head()"
   ]
  },
  {
   "cell_type": "markdown",
   "metadata": {},
   "source": [
    "While I did not do this initially, a histogram of the money statistic would have proved helpful to determine how to examine the data.  After working with all of the data for a while, it became evident that there were many situations where the data was highly skewed to a particular value (for instance, there are a number of movies with only a few reviewers).  So, to start the data preparation, let's look at how the data is distributed to estimate how many data samples of the population would be meaningful."
   ]
  },
  {
   "cell_type": "code",
   "execution_count": 157,
   "metadata": {},
   "outputs": [
    {
     "data": {
      "image/png": "[encoded data removed]",
      "text/plain": [
       "<matplotlib.figure.Figure at 0xcd1f8d0>"
      ]
     },
     "metadata": {},
     "output_type": "display_data"
    }
   ],
   "source": [
    "plt.hist(df_movieMoney['moneyRank'],bins = 20);"
   ]
  },
  {
   "cell_type": "markdown",
   "metadata": {},
   "source": [
    "As can be seen in the histogram above, it seems to have been a good decision to select only the top 500 movies for analysis, as many more actually lost money, and almost 7000 of the 10000 movies available either had incomplete data, or budgets under 100,000 dollars. The budget limit may have been in error, but let's look at the budget histogram."
   ]
  },
  {
   "cell_type": "code",
   "execution_count": 158,
   "metadata": {},
   "outputs": [
    {
     "name": "stdout",
     "output_type": "stream",
     "text": [
      "Number of movies with budgets under 100,000 but above 0, with revenues greater than 0 :  40\n",
      "         id   budget    revenue  moneyRank\n",
      "1354    985  10000.0  7000000.0     -100.0\n",
      "1733  22717     75.0      134.0     -100.0\n",
      "1871  42151  31192.0    10000.0     -100.0\n",
      "2207  42296  30000.0  3045943.0     -100.0\n",
      "2227  38568  30000.0   617000.0     -100.0\n"
     ]
    },
    {
     "data": {
      "image/png": "[encoded data removed]",
      "text/plain": [
       "<matplotlib.figure.Figure at 0x99e8518>"
      ]
     },
     "metadata": {},
     "output_type": "display_data"
    }
   ],
   "source": [
    "df_movieMoney100Hist = df_movieMoney[(df_movieMoney['budget']<100000) & (df_movieMoney['budget']>1) & \\\n",
    "                                    (df_movieMoney['revenue'] > 0)]\n",
    "print \"Number of movies with budgets under 100,000 but above 0, with revenues greater than 0 : \",len(df_movieMoney100Hist)\n",
    "print df_movieMoney100Hist.head()\n",
    "plt.hist(df_movieMoney100Hist['budget'], bins=20);"
   ]
  },
  {
   "cell_type": "markdown",
   "metadata": {},
   "source": [
    "As the idea of using histograms to better select my data arrived after I put most of this together, I'm going to leave this mistake in this report.  The histogram above shows that I left out 40 movies that had legitimate budget/revenue streams, but I did not think to include them originally due to a more 'by brief inspection of the spreadsheet' approach.\n",
    "\n",
    "However, this does mean that the results of the money ranking will be significantly skewed, as these movies could possibly be some of the highest earners, as defined above.  I find my mistake here interesting, which is why I've left it in."
   ]
  },
  {
   "cell_type": "markdown",
   "metadata": {},
   "source": [
    "<a id='dfQuality'></a>\n",
    "### Create movies ranked by quality dataframe"
   ]
  },
  {
   "cell_type": "markdown",
   "metadata": {},
   "source": [
    "Now find the top 500 movies ranked by quality.  This required a bit of consideration as to what the balance should be between the actual vote average versus the number of votes.  The fewer votes there were for a movie greatly increased the volatility of its rank.  In looking at the statstical description of the voter fields, the mean was low and the standard deviation quite high, relatively speaking.  So instead, looking at the IQR for the data seemed to indicate that there were a lot of movies with very few votes, so I decided that if I simply eliminated the bottom 50 percent of movies due to insufficient votes (making the score unreliable), I might capture a reasonable indicator of quality.  So, 38 votes was that cutoff at 50%.\n",
    "\n",
    "Also, I did notice that the top ranked casting for these pictures is 'nan', but I decided to stop the exploration at the initial 3 questions due to the realization that there's always going to be 'one more thing' that can be considered.  Hence, there was no driving reason to clean the cast data."
   ]
  },
  {
   "cell_type": "code",
   "execution_count": 159,
   "metadata": {},
   "outputs": [
    {
     "name": "stdout",
     "output_type": "stream",
     "text": [
      "       vote_average    vote_count\n",
      "count  10866.000000  10866.000000\n",
      "mean       5.974922    217.389748\n",
      "std        0.935142    575.619058\n",
      "min        1.500000     10.000000\n",
      "25%        5.400000     17.000000\n",
      "50%        6.000000     38.000000\n",
      "75%        6.600000    145.750000\n",
      "max        9.200000   9767.000000\n",
      "          id  vote_count  vote_average  voteValStandardized\n",
      "3894  125336        14.0           9.2             3.448917\n",
      "538   224972        11.0           8.9             3.128095\n",
      "2269   51299        27.0           8.8             3.021155\n",
      "1200  374430        41.0           8.8             3.021155\n",
      "6911   24970        23.0           8.7             2.914214\n",
      "          id  vote_count  vote_average  voteValStandardized\n",
      "1200  374430        41.0           8.8             3.021155\n",
      "3690   68450        60.0           8.5             2.700333\n",
      "609   321640        72.0           8.4             2.593393\n",
      "2397  241829        42.0           8.4             2.593393\n",
      "4178     278      5754.0           8.4             2.593393\n",
      "director\n",
      "(Steven Spielberg,)     8\n",
      "(Christopher Nolan,)    7\n",
      "(Martin Scorsese,)      7\n",
      "(Quentin Tarantino,)    7\n",
      "(Clint Eastwood,)       5\n",
      "dtype: int64\n",
      "cast\n",
      "(nan,)                                                                                 9\n",
      "(Elijah Wood, Ian McKellen, Liv Tyler, Orlando Bloom, Viggo Mortensen)                 3\n",
      "(Peter Sallis,)                                                                        2\n",
      "(Chris Evans, Chris Hemsworth, Mark Ruffalo, Robert Downey Jr., Scarlett Johansson)    2\n",
      "(Louis C.K.,)                                                                          2\n",
      "dtype: int64\n"
     ]
    }
   ],
   "source": [
    "###############by quality\n",
    "qualityFields = ['id', 'vote_average', 'vote_count']\n",
    "df_quality = pd.read_csv(filename, usecols=qualityFields)\n",
    "#cast to float for possible division\n",
    "df_quality[['vote_average', 'vote_count']] = df_quality[['vote_average', 'vote_count']].astype(float)\n",
    "\n",
    "print df_quality[['vote_average', 'vote_count']].describe()\n",
    "\n",
    "#since the standard deviation is greater than the mean, it is difficult to find meaning for review quality with few reviewers.  This makes sense, as the age of some of these movies would mean that they have less reviews.\n",
    "#I'm going to ignore the number of reviews for this investigation\n",
    "#standardize the average vote quality\\\n",
    "#The IQR at 50% is 38 votes, so let's make that the lower limit for ranking...it's not fair, but it should help eliminate artifically high scores due to few votes\n",
    "#due to warnings...\n",
    "#http://pandas.pydata.org/pandas-docs/stable/indexing.html#indexing-view-versus-copy\n",
    "df_quality.loc[:, 'voteValStandardized']=((df_quality.loc[:, 'vote_average'] - df_quality.loc[:, 'vote_average'].mean()) / df_quality.loc[:, 'vote_average'].std(ddof=0))\n",
    "\n",
    "print df_quality.sort_values('voteValStandardized', ascending=False).head()\n",
    "df_qualityReviewNumbers = df_quality[df_quality['vote_count'] >= 38]\n",
    "df_qualityReviewNumbers = df_qualityReviewNumbers.sort_values('voteValStandardized', ascending=False).head(500)\n",
    "print df_qualityReviewNumbers.sort_values('voteValStandardized', ascending=False).head()\n",
    "\n",
    "#now analyze quality\n",
    "dfMergedQuality = df_qualityReviewNumbers.merge(df_commonFields, on='id', how='inner')\n",
    "topQualityGenres = dfMergedQuality.groupby(dfMergedQuality['genres']).size().sort_values(ascending=False).head(25)\n",
    "#look at most popular directors for top quality\n",
    "print dfMergedQuality.groupby(dfMergedQuality['director']).size().sort_values(ascending=False).head()\n",
    "#now look at actors in top quality movies\n",
    "print dfMergedQuality.groupby(dfMergedQuality['cast']).size().sort_values(ascending=False).head()"
   ]
  },
  {
   "cell_type": "markdown",
   "metadata": {},
   "source": [
    "Again, let's look at the histogram of quality movies and evaluate whether the split at 38 was reasonable."
   ]
  },
  {
   "cell_type": "code",
   "execution_count": 160,
   "metadata": {},
   "outputs": [
    {
     "name": "stdout",
     "output_type": "stream",
     "text": [
      "5397\n",
      "5.76540670743\n"
     ]
    },
    {
     "data": {
      "image/png": "[encoded data removed]",
      "text/plain": [
       "<matplotlib.figure.Figure at 0xe90f8d0>"
      ]
     },
     "metadata": {},
     "output_type": "display_data"
    },
    {
     "data": {
      "image/png": "[encoded data removed]",
      "text/plain": [
       "<matplotlib.figure.Figure at 0xd965550>"
      ]
     },
     "metadata": {},
     "output_type": "display_data"
    }
   ],
   "source": [
    "plt.hist(df_quality[df_quality['vote_count']<100]['vote_count'],bins=40);\n",
    "#how many movies had fewer than 38 votes?\n",
    "print len(df_quality[df_quality['vote_count']<38])\n",
    "#make new plot\n",
    "pltAvg = plt.figure()\n",
    "#of those with fewer than 38 votes, where did the average movie rank fall?\n",
    "plt.hist(df_quality[df_quality['vote_count']<38]['vote_average'],bins=40);\n",
    "plt.title('Movie rankings with less than 38 votes');\n",
    "print df_quality[df_quality['vote_count']<38]['vote_average'].mean()"
   ]
  },
  {
   "cell_type": "markdown",
   "metadata": {},
   "source": [
    "From the above (top) histogram and the length of that dataset, it's obvious from the IQR in the description above that half of the movies have fewer than 38 votes (the exact point of the 50% IQR)).  So, given that there are ~5000 movies that had less than 38 votes, let's consider what that would have done to the movie rankings.  Looking at the lower histogram above, it's a rather normal distribution with a mean of 5.76.  While the majority of these rankings may not have influenced the ranking, I believe that the rankings of 8 and greater (maybe 50 movies) would have greatly affected the higher level rankings with very few votes, so it was a reasonable approach to eliminate all of these movies from the quality ranking. "
   ]
  },
  {
   "cell_type": "markdown",
   "metadata": {},
   "source": [
    "<a id='dfPopularity'></a>\n",
    "### Create movies ranked by popularity dataframe"
   ]
  },
  {
   "cell_type": "markdown",
   "metadata": {},
   "source": [
    "Finally, sort the data by movie popularity."
   ]
  },
  {
   "cell_type": "code",
   "execution_count": 161,
   "metadata": {},
   "outputs": [
    {
     "name": "stdout",
     "output_type": "stream",
     "text": [
      "         id  popularity  popularityStandardized\n",
      "0    135397   32.985763               32.334830\n",
      "1     76341   28.419936               27.769638\n",
      "629  157336   24.949134               24.299318\n",
      "630  118340   14.311205               13.662866\n",
      "2    262500   13.112507               12.464335\n"
     ]
    }
   ],
   "source": [
    "#################by popularity\n",
    "popularFields = ['id','popularity']\n",
    "dfPopularity = pd.read_csv(filename, usecols=popularFields)\n",
    "#standardize popularity and rank\n",
    "dfPopularity.loc[:,'popularityStandardized'] = (dfPopularity.loc[:,'popularity'] - dfPopularity.loc[:,'popularity'].mean())/dfPopularity.loc[:,'popularity'].std(ddof=0)\n",
    "print dfPopularity.sort_values('popularityStandardized',ascending=False).head()\n",
    "dfPopularityTop = dfPopularity.sort_values('popularityStandardized',ascending=False).head(500)\n",
    "dfMergedPopularity = dfPopularityTop.merge(df_commonFields, on='id', how='inner')\n",
    "\n",
    "topPopularGenres = dfMergedPopularity.groupby(dfMergedPopularity['genres']).size().sort_values(ascending=False).head(25)\n",
    "#look at most popular directors for top quality\n",
    "topPopularDirectors = dfMergedPopularity.groupby(dfMergedPopularity['director']).size().sort_values(ascending=False).head(10)\n",
    "#now look at actors in top quality movies\n",
    "topPopularCast = dfMergedPopularity.groupby(dfMergedPopularity['cast']).size().sort_values(ascending=False).head(10)\n"
   ]
  },
  {
   "cell_type": "markdown",
   "metadata": {},
   "source": [
    "Again, let's look at the histogram for popularity."
   ]
  },
  {
   "cell_type": "code",
   "execution_count": 162,
   "metadata": {},
   "outputs": [
    {
     "data": {
      "image/png": "[encoded data removed]",
      "text/plain": [
       "<matplotlib.figure.Figure at 0x9d09b00>"
      ]
     },
     "metadata": {},
     "output_type": "display_data"
    }
   ],
   "source": [
    "plt.hist(dfPopularity['popularityStandardized'],bins=100);"
   ]
  },
  {
   "cell_type": "markdown",
   "metadata": {},
   "source": [
    "There are many movies that are not popular.  This would be a more challenging paper if the question were to find the worst movies of all time.  But since there are less data points for more popular movies, this seems to be a good measure to quantify the best of the best."
   ]
  },
  {
   "cell_type": "markdown",
   "metadata": {},
   "source": [
    "<a id='eda'></a>\n",
    "## Exploratory Data Analysis\n",
    "\n",
    "> To explore the data, first we'll take a look at some basic questions in an attempt to identify any simple correlations in the dataset.  Finally, we'll dive deeper into the data by looking at the three definitions of a 'successful' movie and attempt to identify any correlations between movie genres and successful movies.  \n",
    "\n",
    "### Is there any correlation between the budget of successful movies and their perceived quality?\n",
    ">Here we look at the standardized quality score versus a movie's budget.  There does appear to be a correlation that the more that is spent on a movie, the higher its standardized quality."
   ]
  },
  {
   "cell_type": "code",
   "execution_count": 163,
   "metadata": {},
   "outputs": [
    {
     "name": "stdout",
     "output_type": "stream",
     "text": [
      "5000\n",
      "Pearson's R of Quality vs. Money :  [-0.03545439]\n"
     ]
    },
    {
     "data": {
      "image/png": "[encoded data removed]",
      "text/plain": [
       "<matplotlib.figure.Figure at 0xe835080>"
      ]
     },
     "metadata": {},
     "output_type": "display_data"
    }
   ],
   "source": [
    "#CREATE SCATTERPLOT OF QUALITY VS MONEY -> RUN PEARSON'S R\n",
    "df_topMoneyScatter = df_movieMoney[df_movieMoney['budget']>0].sort_values(by=['budget'],ascending=False).head(5000)\n",
    "df_qualityReviewScatter = df_quality[df_quality['vote_count'] >= 38].sort_values('voteValStandardized', ascending=False).head(len(df_topMoneyScatter))\n",
    "#put money on the x axis, and quality on y\n",
    "N = len(df_topMoneyScatter)\n",
    "print(N)\n",
    "x = df_topMoneyScatter['budget']\n",
    "y = df_qualityReviewScatter['voteValStandardized']\n",
    "\n",
    "#https://pandas.pydata.org/pandas-docs/stable/merging.html\n",
    "dfPearsonQuality = pd.concat([x,y],axis=1)\n",
    "#https://stackoverflow.com/questions/34896455/how-to-do-pearson-correlation-of-selected-columns-of-a-pandas-data-frame\n",
    "pearsonRMoney = dfPearsonQuality[dfPearsonQuality.columns[0:]].corr(method='pearson')['voteValStandardized'][:-1]\n",
    "print \"Pearson's R of Quality vs. Money : \",pearsonRMoney.values\n",
    "\n",
    "plt.scatter(x,y)\n",
    "plt.title('Movie Quality Ranking vs. Movie Budget')\n",
    "plt.show()"
   ]
  },
  {
   "cell_type": "markdown",
   "metadata": {},
   "source": [
    "The scatterplot above seems to indicate that there is an exponential relationship between movies as ranked by money vs. quality.  However, Pearson's R only works on linear relationships, so there is very little correlation according to that method.  I am as of yet, unfamiliar with the appropriate method with which to evaluate an exponential relationship.\n",
    "\n",
    "The normalized quality on the y-axis should be read that at 0, the quality of the movie was 50/50. Once the studio allocates a budget of 100 million or greater for the movie, the standardized quality is 1.5 standard deviations above the mean, or about 50+34+6.75 = 90.75% of the rankings fell below that point.  In other words, after the studio budgets 100 million for a movie, the movie seems to always rank in the top 9.25% of all rankings, relatively speaking.  This does not mean that it received a review of 90% or higher.  It just means that big budget movies tend to sit in the top 10% of all rankings.  If the top ranked movie was 'Meh, ok', then big budget movies would be in the top 10% of 'Meh, ok' movies. "
   ]
  },
  {
   "cell_type": "markdown",
   "metadata": {},
   "source": [
    "### Is the popularity of a film an indicator of its quality?\n",
    "> Here we again look at standardized quality versus its popularity. I am somewhat unclear from the dataset exactly what a popularity of 10 or 20 actually means, but I can say that higher is more popular, and we can derive meaning from that."
   ]
  },
  {
   "cell_type": "code",
   "execution_count": 164,
   "metadata": {},
   "outputs": [
    {
     "name": "stdout",
     "output_type": "stream",
     "text": [
      "5469\n",
      "Pearson's R of Quality vs. Popularity :  [ 0.26730552]\n"
     ]
    },
    {
     "data": {
      "image/png": "[encoded data removed]",
      "text/plain": [
       "<matplotlib.figure.Figure at 0x9d0a128>"
      ]
     },
     "metadata": {},
     "output_type": "display_data"
    }
   ],
   "source": [
    "#CREATE SCATTERPLOT OF POPULARITY VS QUALITY -> RUN PEARSON'S R\n",
    "df_qualityReviewScatter = df_quality[df_quality['vote_count'] >= 38].sort_values('voteValStandardized', ascending=False)\n",
    "N=len(df_qualityReviewScatter)\n",
    "print(N)\n",
    "\n",
    "x = dfPopularity['popularityStandardized'].head(len(df_qualityReviewScatter))\n",
    "y = df_qualityReviewScatter['voteValStandardized']\n",
    "\n",
    "dfPearsonPopular = pd.concat([x,y],axis=1)\n",
    "pearsonRqvsp = dfPearsonPopular[dfPearsonPopular.columns[0:]].corr(method='pearson')['voteValStandardized'][:-1]\n",
    "print \"Pearson's R of Quality vs. Popularity : \",pearsonRqvsp.values\n",
    "plt.scatter(x,y)\n",
    "plt.title('Movie Quality Ranking vs. Popularity')\n",
    "plt.show()"
   ]
  },
  {
   "cell_type": "markdown",
   "metadata": {},
   "source": [
    "This scatterplot of Quality vs. Popularity is somewhat surprising in that until the popularity is a 10 or above, there is seemingly no significant correlation between popularity and quality.  Let's look at a histogram of standardized quality where popularity is less than 10."
   ]
  },
  {
   "cell_type": "code",
   "execution_count": 165,
   "metadata": {},
   "outputs": [
    {
     "data": {
      "image/png": "[encoded data removed]",
      "text/plain": [
       "<matplotlib.figure.Figure at 0xe8dacc0>"
      ]
     },
     "metadata": {},
     "output_type": "display_data"
    }
   ],
   "source": [
    "histQuality= dfPearsonPopular[dfPearsonPopular['popularityStandardized']<10]['voteValStandardized']\n",
    "plt.hist(histQuality.dropna(),bins = 20);"
   ]
  },
  {
   "cell_type": "markdown",
   "metadata": {},
   "source": [
    "Interestingly enough, when the popularity of a movie is less than 10, the quality of the movie is a normal distribution around 0.  This shows that most movies are of average standardized quality.  Looking at a histogram of the popularity of the same group of films indicates that most films are not that popular, so the quality ranking of the least popular films is not very accurate (falls within 1 standard deviation of the mean quality ranking)."
   ]
  },
  {
   "cell_type": "code",
   "execution_count": 166,
   "metadata": {},
   "outputs": [
    {
     "data": {
      "image/png": "[encoded data removed]",
      "text/plain": [
       "<matplotlib.figure.Figure at 0x99e3048>"
      ]
     },
     "metadata": {},
     "output_type": "display_data"
    }
   ],
   "source": [
    "histPopularity = dfPearsonPopular[dfPearsonPopular['popularityStandardized']<10]['popularityStandardized']\n",
    "plt.hist(histPopularity.dropna(), bins = 20);"
   ]
  },
  {
   "cell_type": "markdown",
   "metadata": {},
   "source": [
    "### Is there some common combination of genres that most successful movies share?\n",
    "\n",
    ">Taking all three of the definitions for movie success : Fame, Fortune and Quality, we now consider each of those dependent variables and look for correlations between the various genres and genre combinations.  Of the top ranked movies, the sample size was increased until approximately 10 genres were identified that were common to all 3 definitions of a successful movie.  The data printed out below gives exact numbers, and the bar chart below shows a more intuitive visualization of the results."
   ]
  },
  {
   "cell_type": "code",
   "execution_count": 167,
   "metadata": {},
   "outputs": [
    {
     "name": "stdout",
     "output_type": "stream",
     "text": [
      "Index([(u'Action', u'Adventure', u'Science Fiction'),\n",
      "                                        (u'Comedy',),\n",
      "                                         (u'Drama',),\n",
      "                  (u'Action', u'Crime', u'Thriller'),\n",
      "                   (u'Comedy', u'Drama', u'Romance'),\n",
      "                              (u'Drama', u'Romance'),\n",
      "                                (u'Crime', u'Drama'),\n",
      "                             (u'Crime', u'Thriller'),\n",
      "                               (u'Comedy', u'Drama')],\n",
      "      dtype='object', name=u'genres')\n",
      "                                      genres_popular  genres_quality  \\\n",
      "genres                                                                 \n",
      "(Action, Adventure, Science Fiction)              27              11   \n",
      "(Comedy,)                                         19               8   \n",
      "(Drama,)                                          18              64   \n",
      "(Action, Crime, Thriller)                         11               4   \n",
      "(Comedy, Drama, Romance)                          10              12   \n",
      "(Drama, Romance)                                   9              23   \n",
      "(Crime, Drama)                                     7              21   \n",
      "(Crime, Thriller)                                  7               4   \n",
      "(Comedy, Drama)                                    6              20   \n",
      "\n",
      "                                      genres_money  \n",
      "genres                                              \n",
      "(Action, Adventure, Science Fiction)             6  \n",
      "(Comedy,)                                       33  \n",
      "(Drama,)                                        35  \n",
      "(Action, Crime, Thriller)                        7  \n",
      "(Comedy, Drama, Romance)                        28  \n",
      "(Drama, Romance)                                17  \n",
      "(Crime, Drama)                                   7  \n",
      "(Crime, Thriller)                                4  \n",
      "(Comedy, Drama)                                 20  \n"
     ]
    },
    {
     "data": {
      "image/png": "[encoded data removed]",
      "text/plain": [
       "<matplotlib.figure.Figure at 0x8ff7630>"
      ]
     },
     "metadata": {},
     "output_type": "display_data"
    }
   ],
   "source": [
    "#PREPARE DATA FOR GRAPHING\n",
    "\n",
    "#find common genres across 3 measures of movies\n",
    "popularGenreList = list(topPopularGenres.index)\n",
    "intersectTemp = topPopularGenres.index.intersection(topMoneyGenres.index)\n",
    "intersectGenres = intersectTemp.intersection(topQualityGenres.index)\n",
    "print intersectGenres\n",
    "#NOW MERGE ALL VALUES FOR THESE CATEGORIES\n",
    "#create dataframes from all previous assemblies to do merge on indices\n",
    "\n",
    "df_PopularGenres = pd.DataFrame(topPopularGenres,columns=['genres'])\n",
    "df_QualityGenres = pd.DataFrame(topQualityGenres,columns=['genres'])\n",
    "df_MoneyGenres = pd.DataFrame(topMoneyGenres,columns=['genres'])\n",
    "# genreComparison = df_PopularGenres.merge(df_QualityGenres,on='genres',how='inner')\n",
    "\n",
    "#doing this eliminates the need to add the ,rsuffix='_1etc' in the join below\n",
    "df_PopularGenres = df_PopularGenres.add_suffix('_popular')\n",
    "df_QualityGenres = df_QualityGenres.add_suffix('_quality')\n",
    "df_MoneyGenres = df_MoneyGenres.add_suffix('_money')\n",
    "#THIS GUY!\n",
    "#https://stackoverflow.com/questions/26366021/pandas-aligning-multiple-dataframes-with-timestamp-index\n",
    "df_GenreResults = df_PopularGenres.join(df_QualityGenres,how='inner').join(df_MoneyGenres,how='inner')\n",
    "print df_GenreResults\n",
    "\n",
    "\n",
    "#CREATE BARCHART OF GENRES FROM ALL 3 CATEGORIES\n",
    "#https://matplotlib.org/examples/api/barchart_demo.html\n",
    "N=len(df_GenreResults) #the number of genre categories displayed\n",
    "ind = np.arange(N) #x locations for the groups\n",
    "width = 0.2\n",
    "\n",
    "fig,ax = plt.subplots()\n",
    "#rects1 = ax.bar(ind, dfMergedMoney.groupby(dfMergedMoney['genres']).size().sort_values(ascending=False).head(10),width,color='r')\n",
    "rects1 = ax.bar(ind, df_GenreResults['genres_popular'], width, color='r')\n",
    "rects2 = ax.bar(ind+width, df_GenreResults['genres_quality'], width, color='y')\n",
    "rects3 = ax.bar(ind+2*width,df_GenreResults['genres_money'], width, color = 'g')\n",
    "\n",
    "ax.set_ylabel('# of movies')\n",
    "ax.set_title('Number of movies by genre, using different ranking criteria')\n",
    "ax.set_xticks(ind+width/2)\n",
    "ax.set_xticklabels(popularGenreList)\n",
    "#https://stackoverflow.com/questions/10998621/rotate-axis-text-in-python-matplotlib\n",
    "plt.xticks(rotation=90)\n",
    "#https://stackoverflow.com/questions/6774086/why-is-my-xlabel-cut-off-in-my-matplotlib-plot\n",
    "fig.set_size_inches(8,6)\n",
    "plt.tight_layout()\n",
    "#subplots_adjust(top = 0.8, bottom=0.7)\n",
    "ax.legend((rects1[0], rects2[0],rects3[0]),('Popularity','Quality','Money'))\n",
    "\n",
    "plt.show()"
   ]
  },
  {
   "cell_type": "markdown",
   "metadata": {},
   "source": [
    "The above bar chart is interesting if you consider the top three genres for all three definitions of successful movies.  \n",
    "\n",
    "The top 3 genres in Popularity are :<br>\n",
    "1) Action/Adventure/Science Fiction<br>\n",
    "2) Comedy<br>\n",
    "3) Drama<br>\n",
    "\n",
    "The top 3 genres in Quality are :<br>\n",
    "1) Drama<br>\n",
    "2) Adventure/Family/Fantasy<br>\n",
    "3) Comedy/Romance<br>\n",
    "\n",
    "The top 3 genres in Money are :<br>\n",
    "1) Drama<br>\n",
    "2) Comedy<br>\n",
    "3) Action/Adventure/Thriller<br>\n",
    "\n",
    "The genres common to all are Drama, Comedy, and Adventure, in that order of significance.  It is probably not a coincidence that the top genres in money and popularity are almost identical, as the more popular a movie, the more ticket revenues that are collected, and hence more money made."
   ]
  },
  {
   "cell_type": "markdown",
   "metadata": {},
   "source": [
    "<a id='conclusions'></a>\n",
    "## Conclusions\n",
    "\n",
    "To review, we have investigated the general question of : 'What are the characteristics of a successful movie?'  The exploration began by assuming that good movies were of high quality. When looking at the studio budgets for the highest quality movies, there is a correlation between how much the studio spends and the standardized quality of a movie.  I cannot say that a higher budget creates higher rankings, as this would imply that at some point, a sufficiently large budget would guarantee a perfect ranking score.  However, it does appear that the higher budget films (budget > 100 million dollars) consistently score in the top 10% of all rankings\n",
    "\n",
    "Next, continuing to assume that high quality movies are considered successful, a standardized quality score was compared to the popularity of the movie.  Perhaps the popular vote always chooses the highest quality film.  This was not a very good hypothesis.  There seemed to be some correlation betwen extremely popular films and quality.  While the popularity score went from 0-30, there were very few films with popularity scores above 10.  And yet, those films with popularity scores greater than 10 scored quite well in terms of standardized quality (standard deviation of > 1).  This means that generally, if 84% of people consider something popular, there is a correlation between that and high standardized quality (again, standard deviation of > 1, or a film that is in the top 16% of rankings).  Where this was more interesting is that once the popularity score dropped below 10 (where most films were), a histogram of the data indicated a normal distribution of quality scores almost centered on a standard deviation of 0.  Looking at a histogram of the popularity scores indicates that most films are not popular.  Combining those two statements and the histograms implies that low popularity movies tend to have average ratings within 1 standard deviation from the mean ratings.  In other words, there seems to be a correlation where the quality of a movie can be within +/- 34% of the average movie quality, and the general movie going masses (68%) will likely give it a try.  There is no causation here.\n",
    "\n",
    "However, I think the truth of 'success' is different for different people.  So, expanding that definition of success to Popularity/Quality/Money, we looked at those different definitons of success in terms of movie genres.  Perhaps people like what they like, and for some, there is no such thing as a bad donut or pizza.  Now comparing these flavors of success versus the genre categories, there are some interesting results.\n",
    "\n",
    "Looking at the top ranked genre for every category of success, why is each genre different?  For popularity, the top genre is Action/Adventure/Science Fiction.  Not only is this the most popular, it also happens to be very low on quality and money ranking.  I would imagine that this is the LotR/Star Wars crowd.  The films are very high budget, resulting in a relatively low budget/revenue score.  This crowd may see the same film multiple times, explaining a high popularity.  And if I were to use Clerks as a movie to explain the relationship between LotR and Star Wars types, I'd say that each ranks the other quite poorly, perhaps explaining a low quality score.  In addition, high budget movies, like realistic video games, may be stuck in the Uncanny Valley where when you try to make unreal things look real, it actually invokes a negative response in people.\n",
    "\n",
    "Next, when considering Quality as the top definition for movie success, it seems that movies in the Drama genre are preferred.  Since i am not a big fan of drama, I find it difficult to explain why this is the case, but it is interesting in that it is also the highest rank in the Money category as well.  I would guess that these are the 'slice of life' movies like Apollo 11 where people overcomes great odds with a feel-good ending.  They likely do not have as many special effects as other genres, hence the good return on money, and consequently top the Quality/Money category.\n",
    "\n",
    "A notable second place is the Comedy genre, which came in second for both Money and Popularity.  It would make sense that people like to laugh, but the low Quality score at first seems surprising.  However, when you consider the range of comedy, from chuckles in polite company, to the slapstick of Naked Gun, to South Park, the Venn diagram for comedy would have a very small intersection.\n",
    "\n",
    "What are the characteristics of a good movie?  This exploration would have to conclude : It depends. I make no claims to any causal relationships, but if I were a movie studio after money, I might focus on Drama/Comedy genres.  If I were a movie goer, I would consider a few reviews unreliable, or perhaps look at the budget and consider that it will be at least a decent movie.  But ultimately, if you know what you like, you'll know the limits of what you're willing to explore, and like all exploration, there's always good with the bad."
   ]
  },
  {
   "cell_type": "code",
   "execution_count": null,
   "metadata": {
    "collapsed": true
   },
   "outputs": [],
   "source": []
  }
 ],
 "metadata": {
  "kernelspec": {
   "display_name": "Python 2",
   "language": "python",
   "name": "python2"
  },
  "language_info": {
   "codemirror_mode": {
    "name": "ipython",
    "version": 2
   },
   "file_extension": ".py",
   "mimetype": "text/x-python",
   "name": "python",
   "nbconvert_exporter": "python",
   "pygments_lexer": "ipython2",
   "version": "2.7.13"
  }
 },
 "nbformat": 4,
 "nbformat_minor": 2
}
